{
  "metadata": {
    "language_info": {
      "name": "sql"
    },
    "sessionKeepAliveTimeout": 30
  },
  "nbformat": 4,
  "nbformat_minor": 2,
  "cells": [
    {
      "cell_type": "code",
      "execution_count": null,
      "outputs": [],
      "metadata": {},
      "source": [
        "spark.sql(\"CREATE TABLE IF NOT EXISTS nyctaxiyellow (key INT, value STRING) USING hive\")\n",
        "spark.sql(\"CREATE TABLE IF NOT EXISTS default.[searchlogtable] (key INT, value STRING) USING hive\")\n",
        "spark.sql(\"CREATE TABLE IF NOT EXISTS default.[speedtest_raw] (key INT, value STRING) USING hive\")\n",
        "spark.sql(\"CREATE TABLE IF NOT EXISTS default.[speedtest_staging] (key INT, value STRING) USING hive\")\n",
        "spark.sql(\"CREATE TABLE IF NOT EXISTS default.[speedtest_weekly] (key INT, value STRING) USING hive\")"
      ],
      "attachments": {}
    }
  ]
}